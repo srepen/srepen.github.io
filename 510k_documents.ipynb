{
  "nbformat": 4,
  "nbformat_minor": 0,
  "metadata": {
    "colab": {
      "provenance": [],
      "authorship_tag": "ABX9TyPkGBkMrZnRRUuUDT8On1y6",
      "include_colab_link": true
    },
    "kernelspec": {
      "name": "python3",
      "display_name": "Python 3"
    },
    "language_info": {
      "name": "python"
    }
  },
  "cells": [
    {
      "cell_type": "markdown",
      "metadata": {
        "id": "view-in-github",
        "colab_type": "text"
      },
      "source": [
        "<a href=\"https://colab.research.google.com/github/srepen/srepen.github.io/blob/main/510k_documents.ipynb\" target=\"_parent\"><img src=\"https://colab.research.google.com/assets/colab-badge.svg\" alt=\"Open In Colab\"/></a>"
      ]
    },
    {
      "cell_type": "code",
      "execution_count": null,
      "metadata": {
        "colab": {
          "base_uri": "https://localhost:8080/"
        },
        "id": "dq0tbgv4yy2-",
        "outputId": "b370b9ad-105e-45a5-9cfe-f2b519da1089"
      },
      "outputs": [
        {
          "output_type": "stream",
          "name": "stdout",
          "text": [
            "JSON data has been successfully converted to output.csv\n"
          ]
        }
      ],
      "source": [
        "import pandas as pd\n",
        "import requests\n",
        "import zipfile\n",
        "import io\n",
        "import json\n",
        "\n",
        "# Step 1: Download the ZIP file\n",
        "url = 'https://download.open.fda.gov/device/510k/device-510k-0001-of-0001.json.zip'\n",
        "response = requests.get(url)\n",
        "\n",
        "# Step 2: Unzip the file\n",
        "with zipfile.ZipFile(io.BytesIO(response.content)) as z:\n",
        "    json_filename = z.namelist()[0]  # Assuming there's only one file in the zip\n",
        "    with z.open(json_filename) as json_file:\n",
        "        data = json.load(json_file)\n",
        "\n",
        "# Step 3: Convert JSON data to a DataFrame\n",
        "# Assuming the JSON structure is a list of records\n",
        "df = pd.DataFrame(data['results'])  # Adjust 'results' if necessary to match your JSON structure\n",
        "\n",
        "# Step 4: Save DataFrame to CSV\n",
        "output_csv = 'output.csv'\n",
        "df.to_csv(output_csv, index=False)\n",
        "\n",
        "print(f'JSON data has been successfully converted to {output_csv}')"
      ]
    }
  ]
}